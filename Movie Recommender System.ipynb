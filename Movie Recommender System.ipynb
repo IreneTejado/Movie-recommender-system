{
 "cells": [
  {
   "cell_type": "markdown",
   "metadata": {},
   "source": [
    "# PART1: Getting and processing the data"
   ]
  },
  {
   "cell_type": "markdown",
   "metadata": {},
   "source": [
    "## Download the dataset from the GroupLens url"
   ]
  },
  {
   "cell_type": "code",
   "execution_count": 1,
   "metadata": {
    "collapsed": true
   },
   "outputs": [],
   "source": [
    "#complete_dataset_url = 'http://files.grouplens.org/datasets/movielens/ml-latest.zip'\n",
    "small_dataset_url = 'http://files.grouplens.org/datasets/movielens/ml-latest-small.zip'"
   ]
  },
  {
   "cell_type": "code",
   "execution_count": 2,
   "metadata": {
    "collapsed": false
   },
   "outputs": [],
   "source": [
    "import os\n",
    "\n",
    "#complete_dataset_path = os.path.join('data', 'ml-latest.zip')\n",
    "small_dataset_path = os.path.join('data', 'ml-latest-small.zip')"
   ]
  },
  {
   "cell_type": "code",
   "execution_count": 3,
   "metadata": {
    "collapsed": false
   },
   "outputs": [],
   "source": [
    "datasets_path = 'data'\n",
    "\n",
    "ratings_file = os.path.join(datasets_path, 'ml-latest-small', 'ratings.csv')\n",
    "movies_file = os.path.join(datasets_path, 'ml-latest-small', 'movies.csv')\n"
   ]
  },
  {
   "cell_type": "code",
   "execution_count": 4,
   "metadata": {
    "collapsed": true
   },
   "outputs": [],
   "source": [
    "ratings_raw_data = sc.textFile(ratings_file)\n",
    "movies_raw_data = sc.textFile(movies_file)\n"
   ]
  },
  {
   "cell_type": "markdown",
   "metadata": {},
   "source": [
    "# Parse the data"
   ]
  },
  {
   "cell_type": "code",
   "execution_count": 5,
   "metadata": {
    "collapsed": false
   },
   "outputs": [],
   "source": [
    "def removeHeader(data):\n",
    "    \"\"\" Remove the header of the input raw data\n",
    "        Args:\n",
    "            data (RDD): input data from the dataset\n",
    "        Returns:\n",
    "            same data without header\n",
    "    \"\"\"\n",
    "    header = data.take(1)[0]\n",
    "    \n",
    "    return data.filter(lambda line: line!=header)"
   ]
  },
  {
   "cell_type": "code",
   "execution_count": 6,
   "metadata": {
    "collapsed": false
   },
   "outputs": [],
   "source": [
    "movies_data = removeHeader(movies_raw_data)\n",
    "ratings_data = removeHeader(ratings_raw_data)"
   ]
  },
  {
   "cell_type": "code",
   "execution_count": 7,
   "metadata": {
    "collapsed": false
   },
   "outputs": [],
   "source": [
    "def parseData(data_no_header):\n",
    "\n",
    "    \"\"\" Parses a data file by commas\n",
    "        Args:\n",
    "            data without header\n",
    "        Returns:\n",
    "            parsed data\n",
    "    \"\"\"\n",
    "\n",
    "    return data_no_header.map(lambda line: line.split(\",\")).map(lambda tokens: (tokens[0],tokens[1],tokens[2])).cache()"
   ]
  },
  {
   "cell_type": "code",
   "execution_count": 8,
   "metadata": {
    "collapsed": false
   },
   "outputs": [],
   "source": [
    "def parseData2(data_no_header):\n",
    "\n",
    "    \"\"\" Parses a data file by commas\n",
    "        Args:\n",
    "            data without header\n",
    "        Returns:\n",
    "            parsed data\n",
    "    \"\"\"\n",
    "    # Firstly, we parse the data by commas\n",
    "    data_split = data_no_header.map(lambda line: line.split(\",\")).collect() \n",
    "    # Then we check if the division returns more than 3 columns, as is expected.\n",
    "    # If there are more than 3, the first column is supposed to be the movie id, the last column is considered the genre\n",
    "    # and all the columns in between are joined and considered the title\n",
    "    data1 = []\n",
    "    data2 = []\n",
    "    for i in data_split:\n",
    "        if len(i)>3:\n",
    "            data1.append(i) # These are the films with more than one column for the title\n",
    "        else:\n",
    "            data2.append(i) # These films are correctly divided \n",
    "    for i in data1:\n",
    "        i[1:-1] = [''.join(i[1:-1])] # Columns between id and genre are joined\n",
    "    \n",
    "    data = data2 + data1 # Both lists of movies are merged\n",
    "    # Finally, the list is sorted by the id of the movies\n",
    "    indices = []\n",
    "    for idx in data:\n",
    "        indices.append(idx[0])\n",
    "    sorted_indices = sorted(range(len(indices)), key=lambda k: int(indices[k]))\n",
    "    split_sorted_data = []\n",
    "    for i in range(0,len(sorted_indices)):\n",
    "        split_sorted_data.append(data[sorted_indices[i]])\n",
    "    return split_sorted_data"
   ]
  },
  {
   "cell_type": "code",
   "execution_count": 9,
   "metadata": {
    "collapsed": false
   },
   "outputs": [],
   "source": [
    "# Parse the data by commas applying the corresponding function\n",
    "movies = parseData2(movies_data)\n",
    "ratings = parseData(ratings_data)\n",
    "\n",
    "# Divide movies matrix in train and test\n",
    "movies = sc.parallelize(movies)\n",
    "moviesTrain, moviesTest = movies.randomSplit([7, 3], seed=0L)\n",
    "\n",
    "# id's of the movies\n",
    "MovieTrainId = moviesTrain.map(lambda line: line[0]).collect()\n",
    "MovieTrainId = [int(float(row)) for row in MovieTrainId]\n",
    "\n",
    "MovieTestId = moviesTest.map(lambda line: line[0]).collect()\n",
    "MovieTestId = [int(float(row)) for row in MovieTestId]\n"
   ]
  },
  {
   "cell_type": "code",
   "execution_count": 45,
   "metadata": {
    "collapsed": false
   },
   "outputs": [
    {
     "name": "stdout",
     "output_type": "stream",
     "text": [
      "User Movies Example:[16, 32, 47, 50, 150, 204, 223, 256, 318, 380, 457, 480, 527, 589, 590, 608, 648, 719, 724, 780, 858, 912, 1061, 1089, 1136, 1198, 1210, 1220, 1222, 1243, 1265, 1270, 1287, 1580, 1721, 2028, 2105, 2161, 2194, 2407, 2571, 2858, 2947, 2959, 3256, 3421, 3578, 4011, 4027, 4033, 4085, 4262, 4306, 4963, 4993, 5349, 5418, 5445, 5952, 6365, 6807, 7153, 8825, 33794, 45950, 48516, 48780, 49272, 54286, 57949]\n"
     ]
    }
   ],
   "source": [
    "print 'User Movies Example: ' + str(userMovies)"
   ]
  },
  {
   "cell_type": "code",
   "execution_count": 46,
   "metadata": {
    "collapsed": false
   },
   "outputs": [
    {
     "name": "stdout",
     "output_type": "stream",
     "text": [
      "User Rates Example: [4, 4, 4, 4, 3, 0.5, 4, 0.5, 4, 3, 4, 3.5, 4.5, 3.5, 3.5, 3.5, 3.5, 0.5, 3.5, 3.5, 5, 5, 4, 4.5, 5, 4, 4.5, 4, 5, 3.5, 3, 3, 4.5, 3.5, 1.5, 4.5, 1.5, 1.5, 4.5, 2.5, 4.5, 4, 3.5, 5, 5, 4.5, 4, 4.5, 3.5, 3.5, 3.5, 5, 4, 3.5, 4.5, 3, 4, 3.5, 4.5, 4.5, 4, 4.5, 2.5, 4.5, 0.5, 5, 4, 3.5, 4, 0.5]\n"
     ]
    }
   ],
   "source": [
    "print 'User Rates Example: ' + str(userRates)"
   ]
  },
  {
   "cell_type": "code",
   "execution_count": 10,
   "metadata": {
    "collapsed": false
   },
   "outputs": [],
   "source": [
    "# Split the matrix depending on the indexes to select\n",
    "def splitMatrix(originalMatrix, idtoSelect):\n",
    "    \n",
    "    \"\"\" Select the movies contained in a vector of id's\n",
    "        Args:\n",
    "           originalMatrix: complete matrix of data\n",
    "           idtoSelect: ids of movies to select\n",
    "        Returns:\n",
    "            matrix containing only the movies of interest\n",
    "    \"\"\"\n",
    "    originalMatrix = originalMatrix.collect()\n",
    "    newMatrix = []\n",
    "    for i in range(0,len(originalMatrix)):\n",
    "        if int(float(originalMatrix[i][1])) in idtoSelect:\n",
    "            newMatrix.append(originalMatrix[i])\n",
    "\n",
    "    return newMatrix\n",
    "\n",
    "\n",
    "# Divide the original rates matrix into train, validation and test\n",
    "ratesTrain = splitMatrix(ratings,MovieTrainId)\n",
    "ratesTest = splitMatrix(ratings,MovieTestId)\n"
   ]
  },
  {
   "cell_type": "code",
   "execution_count": 11,
   "metadata": {
    "collapsed": false
   },
   "outputs": [],
   "source": [
    "# Store genres of train and test movies in a separated variable\n",
    "MovieId =  MovieTrainId\n",
    "movieGenre =  [row[2] for row in moviesTrain.collect()]\n",
    "movieTestGenre =  [row[2] for row in moviesTest.collect()]\n",
    "\n",
    "# Separate the genres that are joint with a |\n",
    "movieGenreList =[row.split(\"|\") for row in movieGenre]\n",
    "movieTestGenreList = [row.split(\"|\") for row in movieTestGenre]"
   ]
  },
  {
   "cell_type": "markdown",
   "metadata": {
    "collapsed": false
   },
   "source": [
    "# Create the genre matrix parametrization. (Films x Genre) "
   ]
  },
  {
   "cell_type": "code",
   "execution_count": 14,
   "metadata": {
    "collapsed": false
   },
   "outputs": [],
   "source": [
    "# Complete list of possible movie genres\n",
    "\n",
    "genreList = ['Action', 'Adventure','Animation','Children','Comedy','Crime','Documentary','Drama','Fantasy','Film-Noir','Horror','Musical','Mystery','Romance','Sci-Fi', 'Thriller','War','Western']\n",
    "import numpy\n",
    "\n",
    "def createGenreMatrix(movieGenreList):\n",
    "    \n",
    "  \n",
    "    genreMatrix = numpy.zeros(shape=(len(movieGenreList),len(genreList)))\n",
    "    \n",
    "    for i in range(0,len(movieGenreList)-1):\n",
    "        #print i\n",
    "        filmGenre = movieGenreList[i]\n",
    "        for j in range(0,len(filmGenre)):\n",
    "            auxGenre = filmGenre[j]\n",
    "            for k in range(0,len(genreList)-1):\n",
    "                #print k\n",
    "                if auxGenre == genreList[k]:\n",
    "                    genreMatrix[i][k] = 1\n",
    "                    \n",
    "    return genreMatrix"
   ]
  },
  {
   "cell_type": "code",
   "execution_count": 15,
   "metadata": {
    "collapsed": false
   },
   "outputs": [],
   "source": [
    "# Create matrix of genres for train and test movies\n",
    "genreMatrix = createGenreMatrix(movieGenreList)\n",
    "genreTestMatrix = createGenreMatrix(movieTestGenreList)\n",
    "\n",
    "# Store in a variable the vector of different users in the training data (repeated users appear)\n",
    "userId = [row[0] for row in ratesTrain]\n",
    "# Counts the number of different users in the previous vector\n",
    "numUniqueUsers = int(max(set(userId))) \n",
    "# Counts the number of movies for training\n",
    "numMovies = int(max(MovieId))"
   ]
  },
  {
   "cell_type": "code",
   "execution_count": 16,
   "metadata": {
    "collapsed": false
   },
   "outputs": [],
   "source": [
    "# Specify the value of the masses it has two columns representing the two clusters of the model. Column 0 has a \"1\" if user liked\n",
    "# the movie and column 1 has a \"1\" if user did not like the movie\n",
    "\n",
    "def massInitialSpecification(ratingsPunctuation):\n",
    "    \"\"\" Create the initial matrix of masses for one user, based on rated movies only\n",
    "        Args:\n",
    "            ratingsPunctuation: vector of ratings of the user\n",
    "        Returns:\n",
    "            two column matrix of masses. The first column corresponds to the 'like' cluster, and has a \"1\" whenever\n",
    "            the user liked the movie- The second column corresponds to the 'dislike' cluster, and has a \"1\" whenever\n",
    "            the user disliked the movie\n",
    "    \"\"\" \n",
    "    \n",
    "    # The masses matrix is initialized to zeros\n",
    "    mass = numpy.zeros(shape=(len(ratingsPunctuation),2))\n",
    "                       \n",
    "    for i in range(0,len(mass)):\n",
    "        # It is considered that a user liked a movie if the rate is higher than 3\n",
    "        if int(ratingsPunctuation[i]) > 3:\n",
    "            mass[i][0] = 1 # like\n",
    "            mass[i][1] = 0\n",
    "        else:\n",
    "            mass[i][0] = 0\n",
    "            mass[i][1] = 1 #\"dont like\"\n",
    "            # For the rest of the ratings, it remains as 0 \"dont like\"\n",
    "        \n",
    "            \n",
    "    return mass"
   ]
  },
  {
   "cell_type": "code",
   "execution_count": 83,
   "metadata": {
    "collapsed": false
   },
   "outputs": [
    {
     "name": "stdout",
     "output_type": "stream",
     "text": [
      "[[ 1.  0.]\n",
      " [ 1.  0.]\n",
      " [ 1.  0.]\n",
      " [ 1.  0.]\n",
      " [ 0.  1.]\n",
      " [ 0.  1.]\n",
      " [ 1.  0.]\n",
      " [ 0.  1.]\n",
      " [ 1.  0.]\n",
      " [ 0.  1.]]\n"
     ]
    }
   ],
   "source": [
    "print masses[:10]"
   ]
  },
  {
   "cell_type": "code",
   "execution_count": 17,
   "metadata": {
    "collapsed": false
   },
   "outputs": [],
   "source": [
    "def convertRatestoIntList(userRates):\n",
    "\n",
    "    newList = []\n",
    "\n",
    "    for i in range(0,len(userRates)):\n",
    "        if int(userRates[i][2]) == 5: # Check the decimal part of the rate\n",
    "            fractionalPart = str(userRates[i][0])\n",
    "            decimalPart = str(userRates[i][2])\n",
    "            number = fractionalPart + '.' + decimalPart\n",
    "            \n",
    "            newList.append(float(number))\n",
    "        else:\n",
    "            number = int(userRates[i][0])\n",
    "            newList.append(number)\n",
    "\n",
    "            \n",
    "    return newList"
   ]
  },
  {
   "cell_type": "code",
   "execution_count": 18,
   "metadata": {
    "collapsed": false
   },
   "outputs": [],
   "source": [
    "def createTotalRates(userRates,MovieId,userMovies):\n",
    "    \"\"\" Given the rates evaluated by the user, create a new vector with all the movies. The evaluated ones have the rate\n",
    "        given by the user and the rest of the films have a 6\n",
    "        Args:\n",
    "            userRates: vector of ratings of the user\n",
    "            MovieId: complete vector of training movies id's\n",
    "            userMovies: vector of id's of the movies rated by the user\n",
    "        Returns:\n",
    "            a vector containing the rates for all the movies, including those not evaluated by the user\n",
    "    \"\"\"\n",
    "    # The total vector of rates is initialized to 6\n",
    "    totalUserRates = numpy.zeros(shape=(len(MovieId),1)) + 6\n",
    "    \n",
    "    # For each movie, it checks if it is already rated by the user. If it is, the rate is updated to its real value; if not,\n",
    "    # the rate is left as 6    \n",
    "    for i in range(0,len(MovieId)):\n",
    "        if MovieId[i] in userMovies:\n",
    "            totalUserRates[i] = userRates[userMovies.index(MovieId[i])]\n",
    "\n",
    "    return totalUserRates"
   ]
  },
  {
   "cell_type": "code",
   "execution_count": 87,
   "metadata": {
    "collapsed": false
   },
   "outputs": [
    {
     "name": "stdout",
     "output_type": "stream",
     "text": [
      "[[ 6.]\n",
      " [ 6.]\n",
      " [ 6.]\n",
      " [ 6.]\n",
      " [ 6.]\n",
      " [ 6.]\n",
      " [ 6.]\n",
      " [ 4.]\n",
      " [ 6.]\n",
      " [ 6.]]\n"
     ]
    }
   ],
   "source": [
    "print userTrainRates[:10]"
   ]
  },
  {
   "cell_type": "code",
   "execution_count": 19,
   "metadata": {
    "collapsed": true
   },
   "outputs": [],
   "source": [
    "def massSpecification(ratingsPunctuation):\n",
    "    \n",
    "    \"\"\" Create the matrix of masses for one user, based on all movies\n",
    "        Args:\n",
    "            ratingsPunctuation: vector of total rates of the user, obtainde by the 'createTotalRates' function\n",
    "        Returns:\n",
    "            two column matrix of masses. The first column corresponds to the 'like' cluster, and has a \"1\" whenever\n",
    "            the user liked the movie. The second column corresponds to the 'dislike' cluster, and has a \"1\" whenever\n",
    "            the user disliked the movie. When the movie has not been rated by the user, its mass is initialized as 0.5 \n",
    "            for both clusters.\n",
    "    \"\"\"   \n",
    "    # The masses matrix is initialized to zeros\n",
    "    mass = numpy.zeros(shape=(len(ratingsPunctuation),2))\n",
    "                       \n",
    "    for i in range(0,len(mass)):\n",
    "        # It is considered that a user liked a movie if the rate is higher than 3\n",
    "        if ratingsPunctuation[i] > 3 and ratingsPunctuation[i]<6 :\n",
    "            mass[i][0] = 1 # like\n",
    "            mass[i][1] = 0\n",
    "        else:\n",
    "                mass[i][0] = 0\n",
    "                mass[i][1] = 1 #\"dont like\"\n",
    "                # For the rest of the ratings, it remains as 0 \"dont like\"\n",
    "        if ratingsPunctuation[i] == 6:  \n",
    "            mass[i][0] = 0.5 # like\n",
    "            mass[i][1] = 0.5\n",
    "            \n",
    "    return mass"
   ]
  },
  {
   "cell_type": "code",
   "execution_count": 20,
   "metadata": {
    "collapsed": false
   },
   "outputs": [],
   "source": [
    "def getUserMoviesGenre(userMovies,genreMatrix,MovieId):\n",
    "    \"\"\" Create the matrix of genres rated by one user\n",
    "        Args:\n",
    "            userMovies: vector of id's of the movies rated by the user\n",
    "            genreMatrix: complete matrix of genres obtained by the function 'createGenreMatrix'\n",
    "            MovieId: complete vector of training movies id's  \n",
    "        Returns:\n",
    "            List of arrays. Each array corresponds to one of the movies rated by the user.\n",
    "            It contains 1 and 0 depending if that movie belongsmto that genre or not.\n",
    "    \"\"\"    \n",
    "    userMovieGenre = []\n",
    "    userMovies = [int(float(aux)) for aux in userMovies]\n",
    "    \n",
    "    for i in range(0,len(MovieId)):\n",
    "        if MovieId[i] in userMovies:\n",
    "            userMovieGenre.append(genreMatrix[int(i)])\n",
    "            \n",
    "            \n",
    "    return userMovieGenre\n",
    "        "
   ]
  },
  {
   "cell_type": "code",
   "execution_count": 21,
   "metadata": {
    "collapsed": false
   },
   "outputs": [],
   "source": [
    "def getMoviesGenre(genreMatrix,MovieId):\n",
    "\n",
    "    movieGenre = []\n",
    "    \n",
    "    for i in range(0,len(genreMatrix)):\n",
    "        if i in MovieId:\n",
    "            movieGenre.append(genreMatrix[int(i)])\n",
    "            \n",
    "            \n",
    "    return movieGenre"
   ]
  },
  {
   "cell_type": "code",
   "execution_count": 22,
   "metadata": {
    "collapsed": false
   },
   "outputs": [],
   "source": [
    "def cosine_similarity(v1,v2):\n",
    "    \"compute cosine similarity of v1 to v2: (v1 dot v2)/{||v1||*||v2||)\"\n",
    "    sumxx, sumxy, sumyy = 0, 0, 0\n",
    "    for i in range(0,len(v1)):\n",
    "        x = v1[i]\n",
    "        y = v2[i]\n",
    "        sumxx += x*x\n",
    "        sumyy += y*y\n",
    "        sumxy += x*y\n",
    "    return sumxy/numpy.sqrt(sumxx*sumyy)\n",
    "\n"
   ]
  },
  {
   "cell_type": "code",
   "execution_count": 23,
   "metadata": {
    "collapsed": false
   },
   "outputs": [],
   "source": [
    "def selectCluster(Force):\n",
    "    \"\"\" Determine if the movie corresponds to the 'like' or 'dislike' cluster, based on the force exerted by each cluster \n",
    "        center.\n",
    "        Args:\n",
    "            Force: matrix of forces exerted by the cluster centers. Obtained by function 'clusterData'\n",
    "        Returns:\n",
    "            vector of 0 and 1, which determines whether the film is classified as 'liked' (1) or 'dislike' (0) \n",
    "    \"\"\"    \n",
    "    cluster = numpy.zeros(shape=(len(Force),1))\n",
    "    # The force is checked for each film. If the force corresponding to the cluster 'like' is higher than the force \n",
    "    # corresponding to the cluser 'dislike', the value is set to 1. When the contrary occurs, the value is set to 0.    \n",
    "    for i in range(0,len(Force)):\n",
    "        if Force[i][0] > Force[i][1]:\n",
    "            cluster[i] = 1\n",
    "        else:\n",
    "            cluster[i] = 0\n",
    "            \n",
    "    return cluster\n",
    "    "
   ]
  },
  {
   "cell_type": "markdown",
   "metadata": {},
   "source": [
    "# MK-means Clustering Algorithm"
   ]
  },
  {
   "cell_type": "code",
   "execution_count": 24,
   "metadata": {
    "collapsed": false
   },
   "outputs": [],
   "source": [
    "def MKmeans(masses,userMoviesGenre,variant,userTotalRates): \n",
    "    \"\"\" Algorithm that takes the labeled data (masses with a 1 or a 0) and initialize the K-means variables\n",
    "        Args:\n",
    "            masses: matrix of masses obtained by function 'massSpecification' or 'massInitialSpecification'\n",
    "            userMoviesGenre: list of arrays of genres obtained by 'getUserMoviesGenre'\n",
    "            variant: indicates the variant of the algorithm to apply\n",
    "            userTotalRates: a vector containing the rates for all the movies obtained by the function 'createTotalRates'\n",
    "        Returns:\n",
    "            M: the mass of the gravitational center\n",
    "            Z: the center of the cluster\n",
    "    \"\"\"\n",
    "    Z = []\n",
    "    # Initialize mass of the gravitational center \n",
    "    if variant == 0:\n",
    "        # Standard Scheme\n",
    "        M = [sum(x) for x in zip(*masses)]\n",
    "    else:\n",
    "        # Variant 1: check if the user has less than 40 labeled movies in the data set\n",
    "        if len(userTotalRates) < 40:\n",
    "            M = [1, 1]\n",
    "        else: \n",
    "            M = [sum(x) for x in zip(*masses)]\n",
    "\n",
    "    for j in range(0,2):\n",
    "        aux = numpy.zeros(shape=(1,18))     \n",
    "\n",
    "        for i in range(0,len(masses)-1):\n",
    "            # Get the vector Xi belonging to the data (genre)\n",
    "            X = map(float,userMoviesGenre[i])\n",
    "            X = [int(float(x)) for x in X]\n",
    "            # Initialize cluster center\n",
    "            if masses[i][j] == 0:\n",
    "                aux = aux + numpy.zeros(shape=(1,len(X)))       \n",
    "            else:\n",
    "                aux2 = [x*masses[i][j] for x in X]\n",
    "                aux = aux + aux2\n",
    "               \n",
    "        \n",
    "        Z.append([x / M[j] for x in aux])\n",
    "           \n",
    "    return M,Z"
   ]
  },
  {
   "cell_type": "code",
   "execution_count": 93,
   "metadata": {
    "collapsed": false
   },
   "outputs": [
    {
     "name": "stdout",
     "output_type": "stream",
     "text": [
      "Initial Mass of Gravitational Center: [39.0, 31.0]\n",
      "Initial Cluster Centers: [[array([ 0.41025641,  0.25641026,  0.02564103,  0.02564103,  0.17948718,\n",
      "        0.33333333,  0.        ,  0.43589744,  0.12820513,  0.        ,\n",
      "        0.        ,  0.02564103,  0.15384615,  0.07692308,  0.12820513,\n",
      "        0.38461538,  0.07692308,  0.        ])], [array([ 0.41935484,  0.41935484,  0.        ,  0.03225806,  0.38709677,\n",
      "        0.16129032,  0.03225806,  0.25806452,  0.09677419,  0.        ,\n",
      "        0.06451613,  0.        ,  0.09677419,  0.09677419,  0.32258065,\n",
      "        0.38709677,  0.03225806,  0.        ])]]\n"
     ]
    }
   ],
   "source": [
    "print 'Initial Mass of Gravitational Center: ' + str(Minit)\n",
    "\n",
    "print 'Initial Cluster Centers: ' + str(Zinit)\n"
   ]
  },
  {
   "cell_type": "code",
   "execution_count": 25,
   "metadata": {
    "collapsed": false
   },
   "outputs": [],
   "source": [
    "def biasMechanism(masses,userMovies,bias):\n",
    "    \"\"\" Algorithm that calculates the centers of the two clusters we are considering\n",
    "        Args:\n",
    "            masses: matrix of masses obtained by function 'massSpecification' or 'massInitialSpecification'\n",
    "            userMovies: vector of id's of the movies rated by one user\n",
    "            bias: value that is going to be added/substracted from the masses\n",
    "        Returns:\n",
    "            matrix of masses after applying the bias\n",
    "    \"\"\"    # Increase or decrease the masses of the unlabeled data by a certain fixed quantity\n",
    "    userMovies = [int(value) for value in userMovies]\n",
    "    for i in range(0,len(masses)):\n",
    "        if i not in userMovies:\n",
    "            masses[i][0] = masses[i][0] - bias\n",
    "            masses[i][1] = masses[i][1] + bias\n",
    "            \n",
    "            #masses[i][1] = masses[i][1] + 0.3\n",
    "    return masses"
   ]
  },
  {
   "cell_type": "code",
   "execution_count": 26,
   "metadata": {
    "collapsed": false
   },
   "outputs": [],
   "source": [
    "def recommendMovies(selectedCluster,userTestMovies,MovieTestId,userTestRates):\n",
    "    \"\"\"  From all the movies clustered as “like”, it selects the ones that belong to the test set of the user.\n",
    "        Args:\n",
    "            selectedCluster: vector obtained by the function 'selectCluster'\n",
    "            userTestMovies: vector of id's of test movies for one user\n",
    "            MovieTestId: complete matrix of test movies\n",
    "            userTestRates: vector of test rates for one user\n",
    "        Returns:\n",
    "            list of movies of test clustered as 'like'\n",
    "    \"\"\"\n",
    "    recommendedMovies = []\n",
    "    recommendationRates = []\n",
    "        # Get all the recommended Movies -> those classified in cluster 0\n",
    "    idFilmRecom,b = numpy.where(clusterSelection==0)\n",
    "\n",
    "    for i in range(0,len(idFilmRecom)):\n",
    "        if MovieTestId[idFilmRecom[i]] in userTestMovies:\n",
    "            recommendedMovies.append(MovieTestId[idFilmRecom[i]])\n",
    "            #recommendationRates.append(userTestRates[idFilmRecom[i]])\n",
    "    return recommendedMovies"
   ]
  },
  {
   "cell_type": "code",
   "execution_count": 27,
   "metadata": {
    "collapsed": true
   },
   "outputs": [],
   "source": [
    "def clusterData(massesTrain,M,Z,userMoviesGenre):\n",
    "    \"\"\"  Calculates the force exerted by each cluster over each movie\n",
    "        Args:\n",
    "            massesTrain: matrix of masses for one user\n",
    "            M: the mass of the gravitational center obtained by the function 'MKmeans'\n",
    "            Z: the center of the cluster obtained by the function 'MKmeans'\n",
    "            userMoviesGenre: list of arrays of genres obtained by 'getUserMoviesGenre'\n",
    "        Returns:\n",
    "            two column matrix of forces. The first column contains the forces exerted by the cluster 'like' over each movie.\n",
    "            The second one, the forces exerted by the cluster 'dislike'\n",
    "    \"\"\"    \n",
    "    # The matrix of forces is initialized to zeros\n",
    "    F = numpy.zeros(shape=(len(masses),2))\n",
    "    # For each mass of each film, the force is calculated\n",
    "    for j in range(0,2):\n",
    "        for i in range(0,len(masses)):\n",
    "            X = map(float,userMoviesGenre[i])\n",
    "            F[i][j] = (masses[i][j] * M[j]) / cosine_similarity(X,Z[j][0])\n",
    "    return F"
   ]
  },
  {
   "cell_type": "code",
   "execution_count": 28,
   "metadata": {
    "collapsed": false
   },
   "outputs": [],
   "source": [
    "def calculateAccuracy(recomRates,accuracy,numNoSucessRate):\n",
    "    \"\"\"  Counter of true positives: counts the number of movies recommended, and rated as liked by the user in the test set\n",
    "        Args:\n",
    "            recomRates: vector of rates for the movies in the test set that have been recommended to the user\n",
    "            accuracy: value of the accuracy in the previous iteration\n",
    "        Returns:\n",
    "            number of movies well recommended\n",
    "    \"\"\"    \n",
    "    individualAccuracy = 0;\n",
    "    for i in range(0,len(recomRates)):\n",
    "        if recomRates[i] > 2.5:\n",
    "            accuracy = accuracy + 1\n",
    "            individualAccuracy = individualAccuracy + 1\n",
    "    if len(recomRates) == 0: \n",
    "        individualAccuracy = 0\n",
    "    else:\n",
    "        individualAccuracy = individualAccuracy / len(recomRates)\n",
    "    if individualAccuracy == 0:\n",
    "        numNoSucessRate = numNoSuccessRate + 1\n",
    "    return accuracy,numNoSucessRate"
   ]
  },
  {
   "cell_type": "code",
   "execution_count": 29,
   "metadata": {
    "collapsed": false
   },
   "outputs": [],
   "source": [
    "def distanceTestCluster(Z,userTestMoviesGenre):\n",
    "    \"\"\"  Calculates the cosine distance from the test movie set to the center of the clusters obtained from the MKmeans\n",
    "        Args:\n",
    "            Z: the center of the cluster obtained by the function 'MKmeans'\n",
    "            userTestMoviesGenre: list of genres of the test movies obtained by the function 'getUserMoviesGenre'\n",
    "        Returns:\n",
    "            number of movies well recommended\n",
    "    \"\"\"\n",
    "    distanceCluster = numpy.zeros(shape=(len(userTestMoviesGenre),2))\n",
    "\n",
    "    for j in range(0,2):\n",
    "\n",
    "        for i in range(0,len(userTestMoviesGenre)):\n",
    "            X = map(float,userTestMoviesGenre[i])\n",
    "            distanceCluster[i][j] = cosine_similarity(X,Z[j][0])\n",
    "    clusterSelection = selectCluster(distanceCluster)\n",
    "    return clusterSelection,distanceCluster"
   ]
  },
  {
   "cell_type": "code",
   "execution_count": 30,
   "metadata": {
    "collapsed": false
   },
   "outputs": [],
   "source": [
    "def calculateCorrelation(userX,userY,ratesTrain):\n",
    "    \"\"\"  Calculates the correlation between users\n",
    "        Args:\n",
    "            userX and user Y: users for which the correlation is going to be calculated\n",
    "            ratesTrain: the matrix of rates for training\n",
    "        Returns:\n",
    "            corr: correlation between the users\n",
    "            commonMovies: vector of id's of movies in common\n",
    "            positionsX:\n",
    "            positionsY:\n",
    "            ratesY:\n",
    "    \"\"\"\n",
    "    # User X\n",
    "    ratesX = [int(float(row[2])) for row in ratesTrain if int(row[0]) == userX and row[1]]\n",
    "    moviesX = [int(float(row[1])) for row in ratesTrain if int(row[0]) == userX and row[1]]\n",
    "\n",
    "    # User Y\n",
    "    ratesY = [int(float(row[2])) for row in ratesTrain if int(row[0]) == userY and row[1]]\n",
    "    moviesY = [int(float(row[1])) for row in ratesTrain if int(row[0]) == userY and row[1]]\n",
    "    commonMovies = []\n",
    "    positionsX = []\n",
    "    positionsY = []\n",
    "    for i in range(0 ,len(moviesX)):\n",
    "         if moviesX[i] in moviesY:\n",
    "                positionsX.append(int(i))\n",
    "                commonMovies.append(moviesX[i])\n",
    "    for i in range(0,len(moviesY)):\n",
    "        if moviesY[i] in moviesX:\n",
    "            positionsY.append(i)\n",
    "\n",
    "        # Calculate mean\n",
    "    meanX = numpy.mean(ratesX)\n",
    "    meanY = numpy.mean(ratesY)\n",
    "\n",
    "\n",
    "    corr = sum([(ratesX[positionsX[f]]-meanX)*(ratesY[positionsY[f]]-meanY) for f in range(0,len(commonMovies))]) / numpy.sqrt(sum([(ratesX[positionsX[f]]-meanX)**2 for f in range(0,len(commonMovies))])*sum([(ratesY[positionsY[f]]-meanY)**2 for f in range(0,len(commonMovies))]))\n",
    "\n",
    "    return corr,commonMovies,positionsX,positionsY,ratesY\n"
   ]
  },
  {
   "cell_type": "code",
   "execution_count": 31,
   "metadata": {
    "collapsed": true
   },
   "outputs": [],
   "source": [
    "def collaborativeFiltering(userX,userY,ratesTrain,moviesCounter):\n",
    "    \"\"\"  Calculates the correlation between users\n",
    "        Args:\n",
    "            userX and user Y: users for which the correlation is going to be calculated\n",
    "            ratesTrain: the matrix of rates for training\n",
    "            moviesCounter:\n",
    "        Returns:\n",
    "            moviesCounter:\n",
    "    \"\"\"\n",
    "    userCorr,commonMovies,posX,posY,userYrates = calculateCorrelation(userX,userY,ratesTrain)\n",
    "    for i in range(0,len(commonMovies)):\n",
    "        if userCorr > 0.1: # high correlation: similar users    \n",
    "            if userYrates[posY[i]] > 3:\n",
    "                moviesCounter[posX[i]][0] = moviesCounter[posX[i]][0] + 1\n",
    "            else:\n",
    "                moviesCounter[posX[i]][1] = moviesCounter[posX[i]][1] - 1\n",
    "        else:\n",
    "            if userCorr < -0.1: # low correlation: different users\n",
    "                if userYrates[posY[i]] > 3:\n",
    "                    moviesCounter[posX[i]][0] = moviesCounter[posX[i]][0] - 1\n",
    "                else:\n",
    "                    moviesCounter[posX[i]][1] = moviesCounter[posX[i]][0] + 1        \n",
    "            else: \n",
    "                if userYrates[posY[i]] > 3:\n",
    "                    moviesCounter[posX[i]][0] = moviesCounter[posX[i]][0] + 0.5\n",
    "                else:\n",
    "                    moviesCounter[posX[i]][1] = moviesCounter[posX[i]][0] - 0.5      \n",
    "    return moviesCounter\n"
   ]
  },
  {
   "cell_type": "code",
   "execution_count": 32,
   "metadata": {
    "collapsed": true
   },
   "outputs": [],
   "source": [
    "def variant3Mechanism(rate,massesTrain,userMovies,MovieId):\n",
    "    \"\"\"  Clasifies the data applying the third variant: The mass that corresponds to each vector is either \n",
    "    increased or decreased depending on whether the respecive movie is proposed by collaborative filtering\n",
    "        Args:\n",
    "            rate:\n",
    "            massesTrain: \n",
    "            userMovies:\n",
    "            MovieId:\n",
    "        Returns:\n",
    "            massesTrain:\n",
    "    \"\"\"\n",
    "    pos = 0\n",
    "    for i in range(0,len(massesTrain)):\n",
    "        if MovieId[i] in userMovies:\n",
    "            if rate[pos] > 0.5:\n",
    "                massesTrain[i][0] = massesTrain[i][0] + 0.1\n",
    "            else:\n",
    "                massesTrain[i][1] = massesTrain[i][1] - 0.1 # probar tambien con -0.2\n",
    "            pos = pos + 1\n",
    "    return massesTrain"
   ]
  },
  {
   "cell_type": "markdown",
   "metadata": {},
   "source": [
    "## K-means Algorithm"
   ]
  },
  {
   "cell_type": "code",
   "execution_count": 99,
   "metadata": {
    "collapsed": false,
    "scrolled": false
   },
   "outputs": [
    {
     "name": "stderr",
     "output_type": "stream",
     "text": [
      "/usr/local/lib/python2.7/dist-packages/IPython/kernel/__main__.py:18: RuntimeWarning: invalid value encountered in double_scalars\n",
      "/usr/local/lib/python2.7/dist-packages/IPython/kernel/__main__.py:10: RuntimeWarning: invalid value encountered in double_scalars\n",
      "/usr/local/lib/python2.7/dist-packages/IPython/kernel/__main__.py:39: RuntimeWarning: invalid value encountered in divide\n",
      "/usr/local/lib/python2.7/dist-packages/IPython/kernel/__main__.py:18: RuntimeWarning: divide by zero encountered in double_scalars\n"
     ]
    },
    {
     "name": "stdout",
     "output_type": "stream",
     "text": [
      "Accuracy for Variant 0 is: 76.9674711438%\n",
      "number of users with no recommendations: 0\n",
      "Accuracy for Variant 1 is: 74.3142144638%"
     ]
    },
    {
     "name": "stderr",
     "output_type": "stream",
     "text": [
      "/usr/local/lib/python2.7/dist-packages/IPython/kernel/__main__.py:36: RuntimeWarning: invalid value encountered in double_scalars\n",
      "/usr/local/lib/python2.7/dist-packages/IPython/kernel/__main__.py:52: RuntimeWarning: divide by zero encountered in double_scalars\n"
     ]
    },
    {
     "name": "stdout",
     "output_type": "stream",
     "text": [
      "\n",
      "number of users with no recommendations: 2\n",
      "Accuracy for Variant 3 is: 74.500665779%\n",
      "number of users with no recommendations: 2\n"
     ]
    },
    {
     "name": "stderr",
     "output_type": "stream",
     "text": [
      "/usr/local/lib/python2.7/dist-packages/IPython/kernel/__main__.py:52: RuntimeWarning: invalid value encountered in double_scalars\n"
     ]
    }
   ],
   "source": [
    "variantList = [0,1,3]\n",
    "for aux in range(0,3):\n",
    "    userNonRec = 0\n",
    "    accuracy = 0\n",
    "    numFilms = 0\n",
    "    usersNoRecom = 0\n",
    "    variant = variantList[aux]\n",
    "    numNoSuccessRate = 0\n",
    "    for user in range(1,numUniqueUsers+1):\n",
    "\n",
    "        #print 'Working with user number:' + str(user)\n",
    "        K = 2 # number of clusters {like,dislike}\n",
    "        # Build a model for each user\n",
    "\n",
    "        userRates = [row[2] for row in ratesTrain if int(row[0]) == user and row[1]]\n",
    "        userMovies = [int(float(row[1])) for row in ratesTrain if int(row[0]) == user and row[1]]\n",
    "        userTestRates = [row[2] for row in ratesTest if int(row[0]) == user and row[1]]\n",
    "        userTestMovies = [int(float(row[1])) for row in ratesTest if int(row[0]) == user and row[1]]\n",
    "        userTotalRates = [int(float(row[1])) for row in ratings.collect() if int(row[0]) == user and row[1]]\n",
    "\n",
    "        trainGenreMatrix = getMoviesGenre(genreMatrix,MovieId)\n",
    "\n",
    "\n",
    "        ## INITIALIZATION\n",
    "        # Convert rates to int format\n",
    "        userRates = convertRatestoIntList(userRates)\n",
    "        # Specify the value of the masses from the labeled user data\n",
    "        masses = massInitialSpecification(userRates)\n",
    "        userMoviesGenre = getUserMoviesGenre(userMovies,genreMatrix,MovieId)\n",
    "        # Initialize the algorithm (M,Z) with the labeled data of the user\n",
    "        Minit,Zinit = MKmeans(masses,userMoviesGenre,variant,userTotalRates)\n",
    "\n",
    "        # Create a vector with the total number of movies in the train set\n",
    "        userTrainRates = createTotalRates(userRates,MovieId,userMovies)\n",
    "        # Total vector of masses\n",
    "        massesTrain = massSpecification(userTrainRates)\n",
    "        # Cluster all the data\n",
    "        Finit = clusterData(massesTrain,Minit,Zinit,userMoviesGenre)\n",
    "        # Select a cluster depending on the Force vector\n",
    "        firstClusterSelection = selectCluster(Finit)\n",
    "        # Bias Mechanism: Increase or decrease the value of the masses before the next iteration\n",
    "        if variant == 0:\n",
    "            bias = 0.3\n",
    "            massesTrain = biasMechanism(massesTrain,userMovies,bias)\n",
    "        if variant == 3:\n",
    "            moviesCounter = numpy.zeros(shape=(len(userMovies),2))\n",
    "            for userY in range(1,numUniqueUsers):\n",
    "                moviesCounter = collaborativeFiltering(user,userY,ratesTrain,moviesCounter)\n",
    "\n",
    "            rate = []\n",
    "            for i in range(0,len(moviesCounter)):\n",
    "                rate.append( moviesCounter[i][0] / (moviesCounter[i][0] + moviesCounter[i][1]))\n",
    "\n",
    "            massesTrain = variant3Mechanism(rate,massesTrain,userMovies,MovieId)\n",
    "        ## ITERATION\n",
    "        for i in range(0,5): # 1000 iterations\n",
    "            # Recalculate the gravitational masses and centers with all the train movies\n",
    "            M,Z = MKmeans(massesTrain,genreMatrix,variant,userTotalRates) \n",
    "\n",
    "            # Recluster all the data\n",
    "            Fcurrent = clusterData(massesTrain,M,Z,genreMatrix)\n",
    "            # Select a cluster depending on the Force vector\n",
    "            currentClusterSelection = selectCluster(Fcurrent)\n",
    "            if i == 0:\n",
    "                if (currentClusterSelection == firstClusterSelection).all(): # keep iterating\n",
    "                    break\n",
    "                else:\n",
    "                    lastClusterSelection = currentClusterSelection\n",
    "                    currentClusterSelection = [] \n",
    "            else:\n",
    "                # Check if from the previous iteration and the next one, the classification stays the same\n",
    "                if (currentClusterSelection == lastClusterSelection).all(): # keep iterating\n",
    "                    break\n",
    "                else:\n",
    "                    lastClusterSelection = currentClusterSelection # The classification from this iteration now become the previous classification for the next iteration\n",
    "                    currentClusterSelection = []       \n",
    "            # Bias Mechanism: Increase or decrease the value of the masses before the next iteration\n",
    "            if variant == 0:\n",
    "                massesTrain = biasMechanism(massesTrain,userMovies,bias)\n",
    "            if variant == 3:\n",
    "                massesTrain = variant3Mechanism(rate,massesTrain,userMovies,MovieId)\n",
    "\n",
    "\n",
    "        ## RECOMMENDATIONS\n",
    "        userTestMoviesGenre = getUserMoviesGenre(userTestMovies,genreTestMatrix,MovieTestId)\n",
    "        # Compute the cosine distance between the test movies genre and the center of the cluster -> Select the cluster\n",
    "        # to which is closer\n",
    "        clusterSelection,distanceCluster = distanceTestCluster(Z,genreTestMatrix)\n",
    "\n",
    "        # Create a vector with the total number of movies in the test set\n",
    "        userTestRates = convertRatestoIntList(userTestRates)\n",
    "\n",
    "        totalUserTestRates = createTotalRates(userTestRates,MovieTestId,userTestMovies)\n",
    "        recomMovies = recommendMovies(clusterSelection,userTestMovies,MovieTestId,totalUserTestRates)\n",
    "        # Count the number of users with no recommendations\n",
    "        if not recomMovies:\n",
    "            usersNoRecom = usersNoRecom + 1\n",
    "\n",
    "        recomRates = []\n",
    "        [recomRates.append(userTestRates[k]) for k in range(0,len(recomMovies)) if recomMovies[k] in userTestMovies]\n",
    "\n",
    "        numFilms = numFilms + len(recomMovies)\n",
    "        accuracy,numNoSuccessRate = calculateAccuracy(recomRates,accuracy,numNoSuccessRate)\n",
    "        # print 'Recommendations for user' + str(user) + ': ' + str(recomMovies)\n",
    "\n",
    "    finalAccuracy = (float(accuracy) / numFilms) * 100\n",
    "\n",
    "    print 'Accuracy for Variant ' + str(variant)+ ' is: '  + str(finalAccuracy) + '%'\n",
    "    print 'number of users with no recommendations: ' + str(usersNoRecom)\n",
    "    #print 'number of users with 0% success rate: ' + str(numNoSuccessRate)"
   ]
  },
  {
   "cell_type": "code",
   "execution_count": null,
   "metadata": {
    "collapsed": true
   },
   "outputs": [],
   "source": []
  }
 ],
 "metadata": {
  "kernelspec": {
   "display_name": "Python 2",
   "language": "python",
   "name": "python2"
  },
  "language_info": {
   "codemirror_mode": {
    "name": "ipython",
    "version": 2
   },
   "file_extension": ".py",
   "mimetype": "text/x-python",
   "name": "python",
   "nbconvert_exporter": "python",
   "pygments_lexer": "ipython2",
   "version": "2.7.11"
  }
 },
 "nbformat": 4,
 "nbformat_minor": 0
}
